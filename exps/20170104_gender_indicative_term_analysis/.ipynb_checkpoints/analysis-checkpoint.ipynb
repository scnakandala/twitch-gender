{
 "cells": [
  {
   "cell_type": "code",
   "execution_count": 51,
   "metadata": {
    "collapsed": true
   },
   "outputs": [],
   "source": [
    "%matplotlib inline\n",
    "import matplotlib.pyplot as plt\n",
    "import pandas as pd\n",
    "\n",
    "from pylab import rcParams\n",
    "rcParams['figure.figsize'] = 10, 10"
   ]
  },
  {
   "cell_type": "code",
   "execution_count": 12,
   "metadata": {
    "collapsed": false
   },
   "outputs": [],
   "source": [
    "df = pd.read_csv('user_feature_vectors.csv', header=None,\n",
    "                 names=['username', 'female', 'pronouns','emotions', 'emoticons', 'cmc_hesitation', 'assent',\n",
    "                        'taboo', 'numeric'])"
   ]
  },
  {
   "cell_type": "code",
   "execution_count": 38,
   "metadata": {
    "collapsed": false
   },
   "outputs": [],
   "source": [
    "mean_male = df[df.female == 0].loc[:, 'pronouns':'numeric'].mean().tolist()\n",
    "mean_female = df[df.female == 1].loc[:, 'pronouns':'numeric'].mean().tolist()\n",
    "mean_all = df.loc[:, 'pronouns':'numeric'].mean().tolist()\n",
    "\n",
    "labels =  ['pronouns','emotions', 'emoticons', 'cmc_hesitation', 'assent', 'taboo', 'numeric']"
   ]
  },
  {
   "cell_type": "code",
   "execution_count": 54,
   "metadata": {
    "collapsed": false
   },
   "outputs": [
    {
     "data": {
      "image/png": "[encoded data removed]",
      "text/plain": [
       "<matplotlib.figure.Figure at 0x11ed3e160>"
      ]
     },
     "metadata": {},
     "output_type": "display_data"
    }
   ],
   "source": [
    "ax = plt.subplot(111)\n",
    "\n",
    "ax.bar([0.8, 1.8, 2.8, 3.8, 4.8, 5.8, 6.8], mean_all,width=0.2,color='b',align='center', label='all')\n",
    "ax.bar([1,2,3,4,5,6,7], mean_male,width=0.2,color='g',align='center', label='male')\n",
    "ax.bar([1.2, 2.2, 3.2, 4.2, 5.2, 6.2, 7.2], mean_female, width=0.2,color='r',align='center', label='female')\n",
    "\n",
    "plt.xticks(x, labels)\n",
    "plt.legend(loc='best')\n",
    "plt.show()"
   ]
  },
  {
   "cell_type": "code",
   "execution_count": null,
   "metadata": {
    "collapsed": true
   },
   "outputs": [],
   "source": []
  }
 ],
 "metadata": {
  "kernelspec": {
   "display_name": "Python 3",
   "language": "python",
   "name": "python3"
  },
  "language_info": {
   "codemirror_mode": {
    "name": "ipython",
    "version": 3
   },
   "file_extension": ".py",
   "mimetype": "text/x-python",
   "name": "python",
   "nbconvert_exporter": "python",
   "pygments_lexer": "ipython3",
   "version": "3.5.2"
  }
 },
 "nbformat": 4,
 "nbformat_minor": 0
}
