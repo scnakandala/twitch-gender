{
 "cells": [
  {
   "cell_type": "code",
   "execution_count": 51,
   "metadata": {
    "collapsed": true
   },
   "outputs": [],
   "source": [
    "%matplotlib inline\n",
    "import matplotlib.pyplot as plt\n",
    "import pandas as pd\n",
    "\n",
    "from pylab import rcParams\n",
    "rcParams['figure.figsize'] = 10, 10"
   ]
  },
  {
   "cell_type": "code",
   "execution_count": 12,
   "metadata": {
    "collapsed": false
   },
   "outputs": [],
   "source": [
    "df = pd.read_csv('user_feature_vectors.csv', header=None,\n",
    "                 names=['username', 'female', 'pronouns','emotions', 'emoticons', 'cmc_hesitation', 'assent',\n",
    "                        'taboo', 'numeric'])"
   ]
  },
  {
   "cell_type": "code",
   "execution_count": 38,
   "metadata": {
    "collapsed": false
   },
   "outputs": [],
   "source": [
    "mean_male = df[df.female == 0].loc[:, 'pronouns':'numeric'].mean().tolist()\n",
    "mean_female = df[df.female == 1].loc[:, 'pronouns':'numeric'].mean().tolist()\n",
    "mean_all = df.loc[:, 'pronouns':'numeric'].mean().tolist()\n",
    "\n",
    "labels =  ['pronouns','emotions', 'emoticons', 'cmc_hesitation', 'assent', 'taboo', 'numeric']"
   ]
  },
  {
   "cell_type": "code",
   "execution_count": 55,
   "metadata": {
    "collapsed": false
   },
   "outputs": [
    {
     "data": {
      "image/png": "[encoded data removed]",
      "text/plain": [
       "<matplotlib.figure.Figure at 0x125985358>"
      ]
     },
     "metadata": {},
     "output_type": "display_data"
    }
   ],
   "source": [
    "ax = plt.subplot(111)\n",
    "\n",
    "ax.bar([0.8, 1.8, 2.8, 3.8, 4.8, 5.8, 6.8], mean_all,width=0.2,color='b',align='center', label='all')\n",
    "ax.bar([1,2,3,4,5,6,7], mean_male,width=0.2,color='g',align='center', label='male')\n",
    "ax.bar([1.2, 2.2, 3.2, 4.2, 5.2, 6.2, 7.2], mean_female, width=0.2,color='r',align='center', label='female')\n",
    "\n",
    "plt.xticks(x, labels)\n",
    "plt.legend(loc='best')\n",
    "plt.show()"
   ]
  },
  {
   "cell_type": "code",
   "execution_count": 58,
   "metadata": {
    "collapsed": false
   },
   "outputs": [
    {
     "name": "stdout",
     "output_type": "stream",
     "text": [
      "<class 'pandas.core.frame.DataFrame'>\n",
      "Int64Index: 7717 entries, 2 to 15611\n",
      "Data columns (total 9 columns):\n",
      "username          7717 non-null object\n",
      "female            7717 non-null int64\n",
      "pronouns          7717 non-null int64\n",
      "emotions          7717 non-null int64\n",
      "emoticons         7717 non-null int64\n",
      "cmc_hesitation    7717 non-null int64\n",
      "assent            7717 non-null int64\n",
      "taboo             7717 non-null int64\n",
      "numeric           7717 non-null int64\n",
      "dtypes: int64(8), object(1)\n",
      "memory usage: 602.9+ KB\n",
      "<class 'pandas.core.frame.DataFrame'>\n",
      "Int64Index: 7895 entries, 0 to 15610\n",
      "Data columns (total 9 columns):\n",
      "username          7895 non-null object\n",
      "female            7895 non-null int64\n",
      "pronouns          7895 non-null int64\n",
      "emotions          7895 non-null int64\n",
      "emoticons         7895 non-null int64\n",
      "cmc_hesitation    7895 non-null int64\n",
      "assent            7895 non-null int64\n",
      "taboo             7895 non-null int64\n",
      "numeric           7895 non-null int64\n",
      "dtypes: int64(8), object(1)\n",
      "memory usage: 616.8+ KB\n",
      "<class 'pandas.core.frame.DataFrame'>\n",
      "RangeIndex: 15612 entries, 0 to 15611\n",
      "Data columns (total 9 columns):\n",
      "username          15612 non-null object\n",
      "female            15612 non-null int64\n",
      "pronouns          15612 non-null int64\n",
      "emotions          15612 non-null int64\n",
      "emoticons         15612 non-null int64\n",
      "cmc_hesitation    15612 non-null int64\n",
      "assent            15612 non-null int64\n",
      "taboo             15612 non-null int64\n",
      "numeric           15612 non-null int64\n",
      "dtypes: int64(8), object(1)\n",
      "memory usage: 1.1+ MB\n"
     ]
    }
   ],
   "source": [
    "df[df.female == 1].info()\n",
    "df[df.female == 0].info()\n",
    "df.info()"
   ]
  },
  {
   "cell_type": "code",
   "execution_count": null,
   "metadata": {
    "collapsed": true
   },
   "outputs": [],
   "source": []
  }
 ],
 "metadata": {
  "kernelspec": {
   "display_name": "Python 3",
   "language": "python",
   "name": "python3"
  },
  "language_info": {
   "codemirror_mode": {
    "name": "ipython",
    "version": 3
   },
   "file_extension": ".py",
   "mimetype": "text/x-python",
   "name": "python",
   "nbconvert_exporter": "python",
   "pygments_lexer": "ipython3",
   "version": "3.5.2"
  }
 },
 "nbformat": 4,
 "nbformat_minor": 0
}
