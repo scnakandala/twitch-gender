{
 "cells": [
  {
   "cell_type": "code",
   "execution_count": 163,
   "metadata": {
    "collapsed": false
   },
   "outputs": [
    {
     "name": "stdout",
     "output_type": "stream",
     "text": [
      "Populating the interactive namespace from numpy and matplotlib\n"
     ]
    },
    {
     "name": "stderr",
     "output_type": "stream",
     "text": [
      "WARNING: pylab import has clobbered these variables: ['shuffle', 'box', 'median']\n",
      "`%matplotlib` prevents importing * from pylab and numpy\n",
      "//anaconda/lib/python3.5/site-packages/matplotlib/__init__.py:1350: UserWarning:  This call to matplotlib.use() has no effect\n",
      "because the backend has already been chosen;\n",
      "matplotlib.use() must be called *before* pylab, matplotlib.pyplot,\n",
      "or matplotlib.backends is imported for the first time.\n",
      "\n",
      "  warnings.warn(_use_error_msg)\n"
     ]
    }
   ],
   "source": [
    "from gensim.models import Doc2Vec\n",
    "from sklearn import decomposition\n",
    "import numpy as np  \n",
    "import sys\n",
    "import operator\n",
    "from sklearn import metrics\n",
    "from sklearn import preprocessing\n",
    "from sklearn import cross_validation\n",
    "from adjustText import adjust_text\n",
    "\n",
    "import heapq\n",
    "import pandas as pd\n",
    "import random as rnd\n",
    "from random import shuffle\n",
    "import collections\n",
    "import matplotlib.ticker as ticker\n",
    "\n",
    "from heapq import nlargest\n",
    "\n",
    "from twitch import commons\n",
    "\n",
    "%pylab inline\n",
    "matplotlib.use('Agg')\n",
    "import matplotlib\n",
    "import matplotlib.pyplot as plt\n",
    "\n",
    "import matplotlib.pylab as pylab"
   ]
  },
  {
   "cell_type": "code",
   "execution_count": 2,
   "metadata": {
    "collapsed": false
   },
   "outputs": [
    {
     "name": "stdout",
     "output_type": "stream",
     "text": [
      "all users: 1818028\n",
      "users with atleast 100 messages: 93898\n"
     ]
    }
   ],
   "source": [
    "df = pd.read_csv('./user_chat_counts.csv.dat', header=None, names=['user', 'total', 'male', 'female'])\n",
    "df['female_chat_percentage'] = (df.female*100)/df.total\n",
    "\n",
    "print('all users: ' + str(len(df.index)))\n",
    "\n",
    "print('users with atleast 100 messages: ' + str(len(df[df.total >= 100].index)))\n",
    "\n",
    "all_users = df[(df.total >= 100)]\n",
    "male_only_users = df[(df.total >= 100) & (df.female_chat_percentage == 0)].user.values.tolist()\n",
    "female_only_users = df[(df.total >= 100) & (df.female_chat_percentage == 100)].user.values.tolist()"
   ]
  },
  {
   "cell_type": "code",
   "execution_count": 5,
   "metadata": {
    "collapsed": false
   },
   "outputs": [],
   "source": [
    "female_channels = [line.strip().split(',')[0] for line in open('../female_channels.csv', 'r')]\n",
    "male_channels = [line.strip().split(',')[0] for line in open('../male_channels.csv', 'r')]"
   ]
  },
  {
   "cell_type": "code",
   "execution_count": 8,
   "metadata": {
    "collapsed": false
   },
   "outputs": [],
   "source": [
    "channel_chat_logs = {}\n",
    "for female in female_channels:\n",
    "    message = []\n",
    "    with open('../../data/channel_chat_logs/cleaned/' + female + \"_chat_log.csv\") as f:\n",
    "        for line in f:\n",
    "            splits = line.split(',')\n",
    "            message.append(splits[3])\n",
    "    channel_chat_logs[female] = ' '.join(message)\n",
    "    \n",
    "for male in male_channels:\n",
    "    message = []\n",
    "    with open('../../data/channel_chat_logs/cleaned/' + male + \"_chat_log.csv\") as f:\n",
    "        for line in f:\n",
    "            splits = line.split(',')\n",
    "            message.append(splits[3])\n",
    "    channel_chat_logs[male] = ' '.join(message)"
   ]
  },
  {
   "cell_type": "code",
   "execution_count": 9,
   "metadata": {
    "collapsed": true
   },
   "outputs": [],
   "source": [
    "model = Doc2Vec.load('./user_all_chats.d2v')"
   ]
  },
  {
   "cell_type": "code",
   "execution_count": 46,
   "metadata": {
    "collapsed": true
   },
   "outputs": [],
   "source": [
    "def infer_channel_vector(channel_name):\n",
    "    return model.infer_vector(channel_chat_logs[channel_name].split(), steps=5)"
   ]
  },
  {
   "cell_type": "code",
   "execution_count": 42,
   "metadata": {
    "collapsed": true
   },
   "outputs": [],
   "source": [
    "vectors = [model.docvecs[x] for x in female_only_users + male_only_users]"
   ]
  },
  {
   "cell_type": "code",
   "execution_count": 72,
   "metadata": {
    "collapsed": false
   },
   "outputs": [],
   "source": [
    "def get_gender_score(channel_name):\n",
    "    k = 200\n",
    "    channel_vector = infer_channel_vector(channel_name)\n",
    "    cosine_similarities = []\n",
    "    for v in user_vectors:\n",
    "        cosine_similarities.append(commons.cosine_similarity(channel_vector, v))\n",
    "    indices = sorted(range(len(cosine_similarities)), key=lambda i: cosine_similarities[i])[-1*k:]\n",
    "    gender_sum = 0\n",
    "    for i in indices:\n",
    "        if i < len(female_only_users):\n",
    "            gender_sum += 1\n",
    "    \n",
    "    gender_sum = gender_sum / k\n",
    "    return gender_sum"
   ]
  },
  {
   "cell_type": "code",
   "execution_count": 75,
   "metadata": {
    "collapsed": false
   },
   "outputs": [],
   "source": [
    "less_popular_female = []\n",
    "for f in female_channels[100:200]:\n",
    "    less_popular_female.append(get_gender_score(f))"
   ]
  },
  {
   "cell_type": "code",
   "execution_count": 76,
   "metadata": {
    "collapsed": true
   },
   "outputs": [],
   "source": [
    "less_popular_male = []\n",
    "for f in male_channels[100:200]:\n",
    "    less_popular_male.append(get_gender_score(f))"
   ]
  },
  {
   "cell_type": "code",
   "execution_count": 110,
   "metadata": {
    "collapsed": false
   },
   "outputs": [
    {
     "data": {
      "text/plain": [
       "(array([ 17.,  12.,   5.,  11.,   7.,   8.,   3.,   9.,   7.,   5.,   3.,\n",
       "          3.,   1.,   2.,   0.,   1.,   4.,   0.,   2.]),\n",
       " array([ 0.        ,  0.05263158,  0.10526316,  0.15789474,  0.21052632,\n",
       "         0.26315789,  0.31578947,  0.36842105,  0.42105263,  0.47368421,\n",
       "         0.52631579,  0.57894737,  0.63157895,  0.68421053,  0.73684211,\n",
       "         0.78947368,  0.84210526,  0.89473684,  0.94736842,  1.        ]),\n",
       " <a list of 19 Patch objects>)"
      ]
     },
     "execution_count": 110,
     "metadata": {},
     "output_type": "execute_result"
    },
    {
     "data": {
      "image/png": "[encoded data removed]",
      "text/plain": [
       "<matplotlib.figure.Figure at 0x1ee850080>"
      ]
     },
     "metadata": {},
     "output_type": "display_data"
    }
   ],
   "source": [
    "ax = plt.subplot(111)\n",
    "ax.set_xlim(xmin=0)\n",
    "bins = numpy.linspace(0, 1, 20)\n",
    "ax.hist(less_popular_female, bins=bins, facecolor='#63c17e', alpha=0.5, linewidth=0)\n",
    "ax.hist(less_popular_male, bins=bins, facecolor='#1F1F1F', alpha=0.5, linewidth=0)"
   ]
  },
  {
   "cell_type": "code",
   "execution_count": 85,
   "metadata": {
    "collapsed": true
   },
   "outputs": [],
   "source": [
    "popular_female = []\n",
    "for f in female_channels[0:100]:\n",
    "    popular_female.append(get_gender_score(f))"
   ]
  },
  {
   "cell_type": "code",
   "execution_count": 86,
   "metadata": {
    "collapsed": true
   },
   "outputs": [],
   "source": [
    "popular_male = []\n",
    "for f in male_channels[0:100]:\n",
    "    popular_male.append(get_gender_score(f))"
   ]
  },
  {
   "cell_type": "code",
   "execution_count": 102,
   "metadata": {
    "collapsed": false
   },
   "outputs": [
    {
     "data": {
      "text/plain": [
       "(array([ 0.58,  0.13,  0.05,  0.09,  0.01,  0.02,  0.03,  0.03,  0.04,\n",
       "         0.01,  0.  ,  0.01,  0.  ,  0.  ,  0.  ,  0.  ,  0.  ,  0.  ,  0.  ]),\n",
       " array([ 0.        ,  0.05263158,  0.10526316,  0.15789474,  0.21052632,\n",
       "         0.26315789,  0.31578947,  0.36842105,  0.42105263,  0.47368421,\n",
       "         0.52631579,  0.57894737,  0.63157895,  0.68421053,  0.73684211,\n",
       "         0.78947368,  0.84210526,  0.89473684,  0.94736842,  1.        ]),\n",
       " <a list of 19 Patch objects>)"
      ]
     },
     "execution_count": 102,
     "metadata": {},
     "output_type": "execute_result"
    },
    {
     "data": {
      "image/png": "[encoded data removed]",
      "text/plain": [
       "<matplotlib.figure.Figure at 0x1edf40f60>"
      ]
     },
     "metadata": {},
     "output_type": "display_data"
    }
   ],
   "source": [
    "ax = plt.subplot(111)\n",
    "ax.set_xlim(xmin=0)\n",
    "bins = numpy.linspace(0, 1, 20)\n",
    "weights = np.ones_like(popular_female)/float(len(popular_female))\n",
    "ax.hist(popular_female, bins=bins, weights=weights, facecolor='#63c17e', alpha=0.5, linewidth=0)\n",
    "weights = np.ones_like(popular_male)/float(len(popular_male))\n",
    "ax.hist(popular_male, bins=bins, weights=weights, facecolor='#1F1F1F', alpha=0.5, linewidth=0)"
   ]
  },
  {
   "cell_type": "code",
   "execution_count": 176,
   "metadata": {
    "collapsed": false
   },
   "outputs": [
    {
     "data": {
      "image/png": "[encoded data removed]",
      "text/plain": [
       "<matplotlib.figure.Figure at 0x1f39d8198>"
      ]
     },
     "metadata": {},
     "output_type": "display_data"
    }
   ],
   "source": [
    "bp = plt.boxplot([popular_female, less_popular_female, less_popular_male, popular_male], sym='+',\n",
    "               vert=0, whis=1.5, labels=['Popular Female', 'Less Popular Female', 'Less Popular Male', 'Popular Male'],\n",
    "                notch=True, patch_artist=True)\n",
    "\n",
    "# colors = ['#63c17e', '#d2f7dc', '#bababa', '#1F1F1F']\n",
    "# for patch, color in zip(bp['boxes'], colors):\n",
    "#     patch.set(facecolor=color, alpha=0.8)\n",
    "\n",
    "plt.draw()\n",
    "plt.savefig('channel_bias_from_users.svg', format='svg')"
   ]
  },
  {
   "cell_type": "code",
   "execution_count": 177,
   "metadata": {
    "collapsed": true
   },
   "outputs": [],
   "source": [
    "popular_female_channel_vectors = []\n",
    "for f in female_channels[0:100]:\n",
    "    popular_female_channel_vectors.append(infer_channel_vector(f))"
   ]
  },
  {
   "cell_type": "code",
   "execution_count": 178,
   "metadata": {
    "collapsed": true
   },
   "outputs": [],
   "source": [
    "less_popular_female_channel_vectors = []\n",
    "for f in female_channels[100:200]:\n",
    "    less_popular_female_channel_vectors.append(infer_channel_vector(f))"
   ]
  },
  {
   "cell_type": "code",
   "execution_count": 179,
   "metadata": {
    "collapsed": true
   },
   "outputs": [],
   "source": [
    "popular_male_channel_vectors = []\n",
    "for f in male_channels[0:100]:\n",
    "    popular_male_channel_vectors.append(infer_channel_vector(f))"
   ]
  },
  {
   "cell_type": "code",
   "execution_count": 180,
   "metadata": {
    "collapsed": true
   },
   "outputs": [],
   "source": [
    "less_popular_male_channel_vectors = []\n",
    "for f in male_channels[100:200]:\n",
    "    less_popular_male_channel_vectors.append(infer_channel_vector(f))"
   ]
  },
  {
   "cell_type": "code",
   "execution_count": 182,
   "metadata": {
    "collapsed": false
   },
   "outputs": [
    {
     "name": "stdout",
     "output_type": "stream",
     "text": [
      "[t-SNE] Computing pairwise distances...\n",
      "[t-SNE] Computing 91 nearest neighbors...\n",
      "[t-SNE] Computed conditional probabilities for sample 400 / 400\n",
      "[t-SNE] Mean sigma: 1.013973\n",
      "[t-SNE] Iteration 25: error = 1.1657873, gradient norm = 0.0229940\n",
      "[t-SNE] Iteration 50: error = 1.1586989, gradient norm = 0.0193301\n",
      "[t-SNE] Iteration 75: error = 0.8827348, gradient norm = 0.0129381\n",
      "[t-SNE] Iteration 100: error = 1.0324005, gradient norm = 0.0154675\n",
      "[t-SNE] Error after 100 iterations with early exaggeration: 1.032400\n",
      "[t-SNE] Iteration 125: error = 0.8585256, gradient norm = 0.0097114\n",
      "[t-SNE] Iteration 150: error = 1.0454255, gradient norm = 0.0158798\n",
      "[t-SNE] Iteration 175: error = 1.2814893, gradient norm = 0.0189796\n",
      "[t-SNE] Iteration 175: did not make any progress during the last 30 episodes. Finished.\n",
      "[t-SNE] Error after 175 iterations: 1.281489\n"
     ]
    }
   ],
   "source": [
    "cluster_xy_vectors = commons.reduce_dim(popular_female_channel_vectors+less_popular_female_channel_vectors+\\\n",
    "                                        popular_male_channel_vectors+less_popular_male_channel_vectors, 'tsne')"
   ]
  },
  {
   "cell_type": "code",
   "execution_count": 185,
   "metadata": {
    "collapsed": false
   },
   "outputs": [
    {
     "name": "stderr",
     "output_type": "stream",
     "text": [
      "//anaconda/lib/python3.5/site-packages/matplotlib/axes/_axes.py:519: UserWarning: No labelled objects found. Use label='...' kwarg on individual plots.\n",
      "  warnings.warn(\"No labelled objects found. \"\n"
     ]
    },
    {
     "data": {
      "image/png": "[encoded data removed]",
      "text/plain": [
       "<matplotlib.figure.Figure at 0x1f4376358>"
      ]
     },
     "metadata": {},
     "output_type": "display_data"
    }
   ],
   "source": [
    "fig_size = plt.rcParams[\"figure.figsize\"]\n",
    "fig_size[0] = 8\n",
    "fig_size[1] = 8\n",
    "plt.rcParams[\"figure.figsize\"] = fig_size\n",
    "\n",
    "plt.scatter([x[0] for x in cluster_xy_vectors[0:100]], [x[1] for x in cluster_xy_vectors[0:100]],\n",
    "            s=64, c='#63c17e', lw=0, alpha=0.6, label=\"Popular Female\")\n",
    "plt.scatter([x[0] for x in cluster_xy_vectors[100:200]], [x[1] for x in cluster_xy_vectors[100:200]],\n",
    "            s=64, c='#63c17e', marker=\"*\", lw=0, alpha=0.6, label=\"Less Popular Female\")\n",
    "\n",
    "plt.scatter([x[0] for x in cluster_xy_vectors[0:100]], [x[1] for x in cluster_xy_vectors[0:100]],\n",
    "            s=64, c='#63c17e', lw=0, alpha=0.6, label=\"Popular Female\")\n",
    "plt.scatter([x[0] for x in cluster_xy_vectors[100:200]], [x[1] for x in cluster_xy_vectors[100:200]],\n",
    "            s=64, c='#63c17e', marker=\"*\", lw=0, alpha=0.6, label=\"Less Popular Female\")\n",
    "\n",
    "leg = plt.legend(loc='lower center', ncol=2)\n",
    "plt.axis('off')\n",
    "plt.draw()\n",
    "plt.savefig('channel_clusters.svg', format='svg')"
   ]
  },
  {
   "cell_type": "code",
   "execution_count": null,
   "metadata": {
    "collapsed": true
   },
   "outputs": [],
   "source": []
  }
 ],
 "metadata": {
  "kernelspec": {
   "display_name": "Python 3",
   "language": "python",
   "name": "python3"
  },
  "language_info": {
   "codemirror_mode": {
    "name": "ipython",
    "version": 3
   },
   "file_extension": ".py",
   "mimetype": "text/x-python",
   "name": "python",
   "nbconvert_exporter": "python",
   "pygments_lexer": "ipython3",
   "version": "3.5.2"
  }
 },
 "nbformat": 4,
 "nbformat_minor": 0
}
