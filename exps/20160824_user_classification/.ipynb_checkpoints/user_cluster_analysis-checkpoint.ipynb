{
 "cells": [
  {
   "cell_type": "code",
   "execution_count": null,
   "metadata": {
    "collapsed": true
   },
   "outputs": [],
   "source": [
    "from twitch import commons\n",
    "from IPython.display import Image\n",
    "import pandas as pd"
   ]
  },
  {
   "cell_type": "code",
   "execution_count": null,
   "metadata": {
    "collapsed": false
   },
   "outputs": [],
   "source": [
    "global_counts = commons.read_word_count_file(\"../../data/word_counts/global_word_counts.csv\")\n",
    "print(len(global_counts))\n",
    "\n",
    "stopwords_list = commons.get_stopwords()\n",
    "global_counts = {k: v for k, v in global_counts.items() if v >= 1000 and (k not in stopwords_list) and (len(k) > 2)}\n",
    "print(len(global_counts))\n",
    "\n",
    "global_corpus_size = sum(global_counts.values())\n",
    "print('Global Corpus Size : ' + str(global_corpus_size))"
   ]
  },
  {
   "cell_type": "code",
   "execution_count": null,
   "metadata": {
    "collapsed": true
   },
   "outputs": [],
   "source": [
    "cluster_users = {line.split(',')[0] : line.split(',')[1].strip().split(' ') for line in open('./cluster_users.csv.dat',\n",
    "                                                                                            'r')}"
   ]
  },
  {
   "cell_type": "code",
   "execution_count": null,
   "metadata": {
    "collapsed": false
   },
   "outputs": [],
   "source": [
    "Image(filename='user_clusters.png')"
   ]
  },
  {
   "cell_type": "code",
   "execution_count": null,
   "metadata": {
    "collapsed": false
   },
   "outputs": [],
   "source": [
    "user_chat_logs = {line.split(',')[0] : line.split(',')[1].strip() for line in open('./user_all_message.csv.dat', 'r')}"
   ]
  },
  {
   "cell_type": "code",
   "execution_count": null,
   "metadata": {
    "collapsed": false
   },
   "outputs": [],
   "source": [
    "def get_cluster_word_counts(cluster):\n",
    "    user_list = cluster_users[cluster]\n",
    "    wordfreq = {}\n",
    "    channelfreq = {}\n",
    "    for user in user_list:\n",
    "        wordlist = user_chat_logs[user].split()\n",
    "        for w in wordlist:\n",
    "            if w not in global_counts:\n",
    "                continue\n",
    "            \n",
    "            if w in wordfreq:\n",
    "                wordfreq[w] += 1\n",
    "                channelfreq[w].add(user)\n",
    "            else:\n",
    "                wordfreq[w] = 1\n",
    "                channelfreq[w] = set()\n",
    "                channelfreq[w].add(user)\n",
    "\n",
    "    for w in channelfreq:\n",
    "        channelfreq[w] = len(channelfreq[w])\n",
    "    return wordfreq, channelfreq\n",
    "\n",
    "def get_all_user_word_counts(skip_users=[]):\n",
    "    wordfreq = {}\n",
    "    channelfreq = {}\n",
    "    \n",
    "    records_df = pd.read_csv('./user_chat_clustering_selected_sample.csv.dat')\n",
    "    records = records_df.values.tolist()\n",
    "    users_sample = [r[0] for r in records]\n",
    "    \n",
    "    for user in users_sample:\n",
    "        if user in skip_users:\n",
    "            continue\n",
    "        wordlist = user_chat_logs[user].split()\n",
    "        for w in wordlist:\n",
    "            if w not in global_counts:\n",
    "                continue\n",
    "            if w in wordfreq:\n",
    "                wordfreq[w] += 1\n",
    "                channelfreq[w].add(user)\n",
    "            else:\n",
    "                wordfreq[w] = 1\n",
    "                channelfreq[w] = set()\n",
    "                channelfreq[w].add(user)\n",
    "\n",
    "    for w in channelfreq:\n",
    "        channelfreq[w] = len(channelfreq[w])\n",
    "    return wordfreq, channelfreq"
   ]
  },
  {
   "cell_type": "code",
   "execution_count": 125,
   "metadata": {
    "collapsed": false
   },
   "outputs": [],
   "source": [
    "word_counts_A, channel_counts_A = get_cluster_word_counts('Dota')\n",
    "word_counts_B, channel_counts_B = get_cluster_word_counts('LoL')\n",
    "\n",
    "top_words_df_AB =  commons.calculate_log_odds_idp(global_counts, word_counts_A, channel_counts_A, word_counts_B,\n",
    "                                           channel_counts_B)"
   ]
  },
  {
   "cell_type": "code",
   "execution_count": 126,
   "metadata": {
    "collapsed": false
   },
   "outputs": [
    {
     "data": {
      "text/html": [
       "<div>\n",
       "<table border=\"1\" class=\"dataframe\">\n",
       "  <thead>\n",
       "    <tr style=\"text-align: right;\">\n",
       "      <th></th>\n",
       "      <th>word</th>\n",
       "      <th>global_count</th>\n",
       "      <th>female_corpus_counts</th>\n",
       "      <th>male_corpus_counts</th>\n",
       "      <th>female_channel_counts</th>\n",
       "      <th>male_channel_counts</th>\n",
       "      <th>log_odds_z_score</th>\n",
       "    </tr>\n",
       "  </thead>\n",
       "  <tbody>\n",
       "    <tr>\n",
       "      <th>80780</th>\n",
       "      <td>time</td>\n",
       "      <td>9827078</td>\n",
       "      <td>7424</td>\n",
       "      <td>982</td>\n",
       "      <td>201</td>\n",
       "      <td>152</td>\n",
       "      <td>1.224676</td>\n",
       "    </tr>\n",
       "    <tr>\n",
       "      <th>93404</th>\n",
       "      <td>kappa</td>\n",
       "      <td>42503114</td>\n",
       "      <td>14977</td>\n",
       "      <td>2657</td>\n",
       "      <td>179</td>\n",
       "      <td>107</td>\n",
       "      <td>0.865634</td>\n",
       "    </tr>\n",
       "    <tr>\n",
       "      <th>16829</th>\n",
       "      <td>dont</td>\n",
       "      <td>7895739</td>\n",
       "      <td>4224</td>\n",
       "      <td>1853</td>\n",
       "      <td>222</td>\n",
       "      <td>176</td>\n",
       "      <td>0.389536</td>\n",
       "    </tr>\n",
       "    <tr>\n",
       "      <th>18902</th>\n",
       "      <td>cant</td>\n",
       "      <td>3362958</td>\n",
       "      <td>1720</td>\n",
       "      <td>790</td>\n",
       "      <td>184</td>\n",
       "      <td>147</td>\n",
       "      <td>0.223024</td>\n",
       "    </tr>\n",
       "    <tr>\n",
       "      <th>26758</th>\n",
       "      <td>last</td>\n",
       "      <td>3330848</td>\n",
       "      <td>1211</td>\n",
       "      <td>367</td>\n",
       "      <td>139</td>\n",
       "      <td>104</td>\n",
       "      <td>0.192079</td>\n",
       "    </tr>\n",
       "    <tr>\n",
       "      <th>35618</th>\n",
       "      <td>today</td>\n",
       "      <td>3135352</td>\n",
       "      <td>1035</td>\n",
       "      <td>247</td>\n",
       "      <td>148</td>\n",
       "      <td>93</td>\n",
       "      <td>0.183769</td>\n",
       "    </tr>\n",
       "    <tr>\n",
       "      <th>55009</th>\n",
       "      <td>much</td>\n",
       "      <td>5851677</td>\n",
       "      <td>1914</td>\n",
       "      <td>749</td>\n",
       "      <td>179</td>\n",
       "      <td>134</td>\n",
       "      <td>0.161755</td>\n",
       "    </tr>\n",
       "    <tr>\n",
       "      <th>62675</th>\n",
       "      <td>name</td>\n",
       "      <td>4903091</td>\n",
       "      <td>1317</td>\n",
       "      <td>365</td>\n",
       "      <td>144</td>\n",
       "      <td>110</td>\n",
       "      <td>0.140309</td>\n",
       "    </tr>\n",
       "    <tr>\n",
       "      <th>73259</th>\n",
       "      <td>isnt</td>\n",
       "      <td>1078756</td>\n",
       "      <td>848</td>\n",
       "      <td>553</td>\n",
       "      <td>123</td>\n",
       "      <td>111</td>\n",
       "      <td>0.123919</td>\n",
       "    </tr>\n",
       "    <tr>\n",
       "      <th>32522</th>\n",
       "      <td>never</td>\n",
       "      <td>4126405</td>\n",
       "      <td>1192</td>\n",
       "      <td>483</td>\n",
       "      <td>162</td>\n",
       "      <td>107</td>\n",
       "      <td>0.096544</td>\n",
       "    </tr>\n",
       "  </tbody>\n",
       "</table>\n",
       "</div>"
      ],
      "text/plain": [
       "        word  global_count  female_corpus_counts  male_corpus_counts  \\\n",
       "80780   time       9827078                  7424                 982   \n",
       "93404  kappa      42503114                 14977                2657   \n",
       "16829   dont       7895739                  4224                1853   \n",
       "18902   cant       3362958                  1720                 790   \n",
       "26758   last       3330848                  1211                 367   \n",
       "35618  today       3135352                  1035                 247   \n",
       "55009   much       5851677                  1914                 749   \n",
       "62675   name       4903091                  1317                 365   \n",
       "73259   isnt       1078756                   848                 553   \n",
       "32522  never       4126405                  1192                 483   \n",
       "\n",
       "       female_channel_counts  male_channel_counts  log_odds_z_score  \n",
       "80780                    201                  152          1.224676  \n",
       "93404                    179                  107          0.865634  \n",
       "16829                    222                  176          0.389536  \n",
       "18902                    184                  147          0.223024  \n",
       "26758                    139                  104          0.192079  \n",
       "35618                    148                   93          0.183769  \n",
       "55009                    179                  134          0.161755  \n",
       "62675                    144                  110          0.140309  \n",
       "73259                    123                  111          0.123919  \n",
       "32522                    162                  107          0.096544  "
      ]
     },
     "execution_count": 126,
     "metadata": {},
     "output_type": "execute_result"
    }
   ],
   "source": [
    "top_words_df_AB[top_words_df_AB.male_channel_counts >= top_words_df_AB.male_channel_counts.max() * 0.5].head(10)"
   ]
  },
  {
   "cell_type": "code",
   "execution_count": null,
   "metadata": {
    "collapsed": true
   },
   "outputs": [],
   "source": [
    "user_chat_logs['']"
   ]
  }
 ],
 "metadata": {
  "kernelspec": {
   "display_name": "Python 3",
   "language": "python",
   "name": "python3"
  },
  "language_info": {
   "codemirror_mode": {
    "name": "ipython",
    "version": 3
   },
   "file_extension": ".py",
   "mimetype": "text/x-python",
   "name": "python",
   "nbconvert_exporter": "python",
   "pygments_lexer": "ipython3",
   "version": "3.5.2"
  }
 },
 "nbformat": 4,
 "nbformat_minor": 0
}
