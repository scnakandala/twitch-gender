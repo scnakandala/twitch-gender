{
 "cells": [
  {
   "cell_type": "code",
   "execution_count": 1,
   "metadata": {
    "collapsed": true
   },
   "outputs": [],
   "source": [
    "import sys\n",
    "import pandas as pd\n",
    "\n",
    "from twitch import commons"
   ]
  },
  {
   "cell_type": "code",
   "execution_count": 2,
   "metadata": {
    "collapsed": false
   },
   "outputs": [
    {
     "name": "stdout",
     "output_type": "stream",
     "text": [
      "341531\n"
     ]
    }
   ],
   "source": [
    "global_counts = commons.read_word_count_file(\"../../data/word_counts/global_bigram_counts.csv\")\n",
    "print(len(global_counts))"
   ]
  },
  {
   "cell_type": "code",
   "execution_count": null,
   "metadata": {
    "collapsed": false
   },
   "outputs": [
    {
     "name": "stdout",
     "output_type": "stream",
     "text": [
      "Global Corpus Size : 2494007873\n"
     ]
    }
   ],
   "source": [
    "global_corpus_size = sum(global_counts.values())\n",
    "print('Global Corpus Size : ' + str(global_corpus_size))"
   ]
  },
  {
   "cell_type": "code",
   "execution_count": null,
   "metadata": {
    "collapsed": true
   },
   "outputs": [],
   "source": [
    "top_female_list = [line.strip().split(',')[0] for line in open('../female_channels.csv', 'r')][0:100]\n",
    "top_female_counts = commons.read_word_count_file(\"../../data/word_counts/top_female_bigram_counts.csv\")\n",
    "top_female_counts = {k: v for k, v in top_female_counts.items() if k in global_counts}\n",
    "top_female_word_in_channel_count = commons.get_bigram_channel_count(\"../../data/word_counts/channel_bigram_counts\",\n",
    "                                                                         top_female_list)"
   ]
  },
  {
   "cell_type": "code",
   "execution_count": null,
   "metadata": {
    "collapsed": true
   },
   "outputs": [],
   "source": [
    "top_male_list = [line.strip().split(',')[0] for line in open('../male_channels.csv', 'r')][0:100]\n",
    "top_male_counts = commons.read_word_count_file(\"../../data/word_counts/top_male_bigram_counts.csv\")\n",
    "top_male_counts = {k: v for k, v in top_male_counts.items() if k in global_counts}\n",
    "top_male_word_in_channel_count = commons.get_bigram_channel_count(\"../../data/word_counts/channel_bigram_counts\",\n",
    "                                                                         top_male_list)"
   ]
  },
  {
   "cell_type": "code",
   "execution_count": null,
   "metadata": {
    "collapsed": true
   },
   "outputs": [],
   "source": [
    "top_words_df =  commons.calculate_log_odds_idp(global_counts, top_female_counts, \\\n",
    "                    top_female_word_in_channel_count, top_male_counts, top_male_word_in_channel_count)"
   ]
  },
  {
   "cell_type": "markdown",
   "metadata": {},
   "source": [
    "### Top bigrams for popular female"
   ]
  },
  {
   "cell_type": "code",
   "execution_count": null,
   "metadata": {
    "collapsed": false
   },
   "outputs": [],
   "source": [
    "top_words_df[top_words_df.female_channel_counts >= 20].head(25)"
   ]
  },
  {
   "cell_type": "code",
   "execution_count": null,
   "metadata": {
    "collapsed": false
   },
   "outputs": [],
   "source": [
    "temp = [x for x in top_words_df[top_words_df.female_channel_counts >= 20].word.values.tolist()[0:50] \\\n",
    "     if \"she\" in x.split() or \"her\" in x.split() ]\n",
    "print(len(temp))"
   ]
  },
  {
   "cell_type": "markdown",
   "metadata": {},
   "source": [
    "### Top bigrams for popular male corpus"
   ]
  },
  {
   "cell_type": "code",
   "execution_count": null,
   "metadata": {
    "collapsed": false
   },
   "outputs": [],
   "source": [
    "top_words_df[top_words_df.male_channel_counts >= 20].iloc[::-1].head(25)"
   ]
  },
  {
   "cell_type": "code",
   "execution_count": null,
   "metadata": {
    "collapsed": true
   },
   "outputs": [],
   "source": [
    "bottom_female_list = [line.strip().split(',')[0] for line in open('../female_channels.csv', 'r')][100:200]\n",
    "bottom_female_counts = commons.read_word_count_file(\"../../data/word_counts/bottom_female_bigram_counts.csv\")\n",
    "bottom_female_counts = {k: v for k, v in bottom_female_counts.items() if k in global_counts}\n",
    "bottom_female_word_in_channel_count = commons.get_bigram_channel_count(\"../../data/word_counts/\" +\n",
    "                                                                              \"channel_bigram_counts\",bottom_female_list)\n",
    "bottom_male_list = [line.strip().split(',')[0] for line in open('../male_channels.csv', 'r')][100:200]\n",
    "bottom_male_counts = commons.read_word_count_file(\"../../data/word_counts/bottom_male_bigram_counts.csv\")\n",
    "bottom_male_counts = {k: v for k, v in bottom_male_counts.items() if k in global_counts}\n",
    "bottom_male_word_in_channel_count = commons.get_bigram_channel_count(\"../../data/word_counts/\" + \n",
    "                                                                            \"channel_bigram_counts\",bottom_male_list)"
   ]
  },
  {
   "cell_type": "code",
   "execution_count": null,
   "metadata": {
    "collapsed": true
   },
   "outputs": [],
   "source": [
    "bottom_words_df = commons.calculate_log_odds_idp(global_counts, bottom_female_counts, \\\n",
    "                    bottom_female_word_in_channel_count, bottom_male_counts, bottom_male_word_in_channel_count)"
   ]
  },
  {
   "cell_type": "markdown",
   "metadata": {},
   "source": [
    "### Top bigrams for less popular female corpus"
   ]
  },
  {
   "cell_type": "code",
   "execution_count": null,
   "metadata": {
    "collapsed": false
   },
   "outputs": [],
   "source": [
    "bottom_words_df[bottom_words_df.female_channel_counts >= 20].head(25)"
   ]
  },
  {
   "cell_type": "markdown",
   "metadata": {},
   "source": [
    "### Top words for less popular male corpus"
   ]
  },
  {
   "cell_type": "code",
   "execution_count": null,
   "metadata": {
    "collapsed": false
   },
   "outputs": [],
   "source": [
    "bottom_words_df[bottom_words_df.male_channel_counts >= 20].iloc[::-1].head(25)"
   ]
  },
  {
   "cell_type": "code",
   "execution_count": null,
   "metadata": {
    "collapsed": true
   },
   "outputs": [],
   "source": []
  }
 ],
 "metadata": {
  "kernelspec": {
   "display_name": "Python 3",
   "language": "python",
   "name": "python3"
  },
  "language_info": {
   "codemirror_mode": {
    "name": "ipython",
    "version": 3
   },
   "file_extension": ".py",
   "mimetype": "text/x-python",
   "name": "python",
   "nbconvert_exporter": "python",
   "pygments_lexer": "ipython3",
   "version": "3.5.2"
  }
 },
 "nbformat": 4,
 "nbformat_minor": 0
}
